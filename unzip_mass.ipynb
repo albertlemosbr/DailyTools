{
 "cells": [
  {
   "cell_type": "code",
   "execution_count": null,
   "metadata": {},
   "outputs": [],
   "source": [
    "import os, zipfile"
   ]
  },
  {
   "cell_type": "code",
   "execution_count": null,
   "metadata": {},
   "outputs": [],
   "source": [
    "files = os.listdir('./files')\n",
    "\n",
    "for file in files:\n",
    "    print(file)\n",
    "    with zipfile.ZipFile(f'./files/{file}', 'r') as zip_ref:\n",
    "        zip_ref.extractall('./unzip')"
   ]
  }
 ],
 "metadata": {
  "language_info": {
   "name": "python"
  }
 },
 "nbformat": 4,
 "nbformat_minor": 2
}
